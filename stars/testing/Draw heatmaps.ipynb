{
 "cells": [
  {
   "cell_type": "code",
   "execution_count": 1,
   "metadata": {
    "collapsed": false
   },
   "outputs": [],
   "source": [
    "%matplotlib inline"
   ]
  },
  {
   "cell_type": "code",
   "execution_count": 2,
   "metadata": {
    "collapsed": false
   },
   "outputs": [],
   "source": [
    "import os\n",
    "import numpy as np\n",
    "import matplotlib.pyplot as plt"
   ]
  },
  {
   "cell_type": "code",
   "execution_count": 3,
   "metadata": {
    "collapsed": false
   },
   "outputs": [],
   "source": [
    "for fname in os.listdir(\".\"):\n",
    "    if not fname.endswith(\".dat\"):\n",
    "        continue\n",
    "    with open(fname, \"r\") as fd:\n",
    "        nrows, ncols = map(int, fd.readline().split())\n",
    "        mat = np.ndarray((nrows, ncols), dtype=np.int)\n",
    "        for i in range(nrows):\n",
    "            line = fd.readline().split()\n",
    "            for j in range(ncols):\n",
    "                mat[i, j] = int(line[j])\n",
    "        S1 = np.array(map(float, fd.readline().split()))\n",
    "        S2 = np.array(map(float, fd.readline().split()))\n",
    "        S3 = np.array(map(float, fd.readline().split()))\n",
    "        S4 = np.array(map(float, fd.readline().split()))\n",
    "        fig = plt.figure(1, figsize=(12,12))\n",
    "        plt.imshow(mat, cmap=plt.cm.Pastel1_r)\n",
    "        for i in range(mat.shape[0]):\n",
    "            for j in range(mat.shape[1]):\n",
    "                plt.text(j, i, \"{}\".format(mat[i, j]), horizontalalignment='center', verticalalignment='center')\n",
    "        plt.savefig(fname[:-3]+\"pdf\")\n",
    "        plt.close()\n",
    "        fig = plt.figure(1, figsize=(9,4))\n",
    "        plt.semilogy(S1, label='(1/2;1/2)')\n",
    "        plt.semilogy(S2, label='(3/8;5/8)')\n",
    "        plt.semilogy(S3, label='(1/4;3/4)')\n",
    "        plt.semilogy(S4, label='(0;1)')\n",
    "        plt.legend(loc='best')\n",
    "        plt.tight_layout()\n",
    "        plt.savefig(fname[:-4]+\"_decay.pdf\")\n",
    "        plt.close()"
   ]
  },
  {
   "cell_type": "code",
   "execution_count": 15,
   "metadata": {
    "collapsed": false
   },
   "outputs": [
    {
     "data": {
      "image/png": "[encoded data removed]",
      "text/plain": [
       "<matplotlib.figure.Figure at 0x10873f850>"
      ]
     },
     "metadata": {},
     "output_type": "display_data"
    }
   ],
   "source": [
    "fname = \"spatial_10240_512_1e-14.dat\"\n",
    "with open(fname, \"r\") as fd:\n",
    "    nrows, ncols = map(int, fd.readline().split())\n",
    "    mat = np.ndarray((nrows, ncols), dtype=np.int)\n",
    "    for i in range(nrows):\n",
    "        line = fd.readline().split()\n",
    "        for j in range(ncols):\n",
    "            mat[i, j] = int(line[j])\n",
    "    S1 = np.array(map(float, fd.readline().split()))\n",
    "    S2 = np.array(map(float, fd.readline().split()))\n",
    "    S3 = np.array(map(float, fd.readline().split()))\n",
    "    S4 = np.array(map(float, fd.readline().split()))\n",
    "    fig = plt.figure(1, figsize=(8,8))\n",
    "    plt.imshow(mat, cmap=plt.cm.Pastel1_r)\n",
    "    for i in range(mat.shape[0]):\n",
    "        for j in range(mat.shape[1]):\n",
    "            plt.text(j, i, \"{}\".format(mat[i, j]), horizontalalignment='center', verticalalignment='center')\n",
    "    #plt.tight_layout()\n",
    "    plt.savefig(fname[:-3]+\"pdf\")\n",
    "    plt.close()\n",
    "    fig = plt.figure(1, figsize=(9,4))\n",
    "    plt.semilogy(S1, label='(1/2;1/2)')\n",
    "    plt.semilogy(S2, label='(3/8;5/8)')\n",
    "    plt.semilogy(S3, label='(1/4;3/4)')\n",
    "    plt.semilogy(S4, label='(0;1)')\n",
    "    plt.xlim(0, S1.shape[0]-1)\n",
    "    plt.legend(loc='best')\n",
    "    plt.tight_layout()\n",
    "    plt.savefig(fname[:-4]+\"_decay.pdf\")\n",
    "    plt.show()"
   ]
  },
  {
   "cell_type": "code",
   "execution_count": null,
   "metadata": {
    "collapsed": true
   },
   "outputs": [],
   "source": []
  }
 ],
 "metadata": {
  "kernelspec": {
   "display_name": "Python 2",
   "language": "python",
   "name": "python2"
  },
  "language_info": {
   "codemirror_mode": {
    "name": "ipython",
    "version": 2
   },
   "file_extension": ".py",
   "mimetype": "text/x-python",
   "name": "python",
   "nbconvert_exporter": "python",
   "pygments_lexer": "ipython2",
   "version": "2.7.12"
  }
 },
 "nbformat": 4,
 "nbformat_minor": 0
}
